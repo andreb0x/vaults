{
 "cells": [
  {
   "cell_type": "code",
   "execution_count": 1,
   "id": "7c02cca1-32c0-41e5-9e20-6e46fd104a53",
   "metadata": {},
   "outputs": [
    {
     "name": "stdout",
     "output_type": "stream",
     "text": [
      "current block 30778306\n"
     ]
    }
   ],
   "source": [
    "from locallib import *"
   ]
  },
  {
   "cell_type": "markdown",
   "id": "ebf01f55-26cd-42b5-89cc-d1f7c3924fd8",
   "metadata": {},
   "source": [
    "# Yearn"
   ]
  },
  {
   "cell_type": "code",
   "execution_count": 2,
   "id": "accebc70-e957-454f-a42d-f064c656ee29",
   "metadata": {
    "tags": []
   },
   "outputs": [
    {
     "name": "stdout",
     "output_type": "stream",
     "text": [
      "btc\n",
      "debt (622,)\n",
      "supply (622,)\n",
      "assets (622,)\n",
      "pricepershare (622,)\n",
      "eth\n",
      "debt (622,)\n",
      "supply (622,)\n",
      "assets (623,)\n",
      "pricepershare (623,)\n",
      "wftm\n",
      "debt (2860,)\n",
      "supply (2860,)\n",
      "assets (2860,)\n",
      "pricepershare (2860,)\n",
      "usdc\n",
      "debt (2478,)\n",
      "supply (2478,)\n",
      "assets (2479,)\n",
      "pricepershare (2479,)\n",
      "usdt\n",
      "debt (1685,)\n",
      "supply (1685,)\n",
      "assets (1685,)\n",
      "pricepershare (1685,)\n",
      "mim\n",
      "debt (2495,)\n",
      "supply (2495,)\n",
      "assets (2495,)\n",
      "pricepershare (2495,)\n",
      "dai\n",
      "debt (2925,)\n",
      "supply (2925,)\n",
      "assets (2925,)\n",
      "pricepershare (2926,)\n",
      "yfi\n",
      "debt (2788,)\n",
      "supply (2789,)\n",
      "assets (2789,)\n",
      "pricepershare (2789,)\n",
      "boo\n",
      "debt (302,)\n",
      "supply (302,)\n",
      "assets (302,)\n",
      "pricepershare (303,)\n",
      "frax\n",
      "debt (1180,)\n",
      "supply (1180,)\n",
      "assets (1180,)\n",
      "pricepershare (1181,)\n",
      "geist\n",
      "debt (1046,)\n",
      "supply (1046,)\n",
      "assets (1046,)\n",
      "pricepershare (1046,)\n",
      "crv\n",
      "debt (625,)\n",
      "supply (625,)\n",
      "assets (626,)\n",
      "pricepershare (626,)\n",
      "spell\n",
      "debt (626,)\n",
      "supply (626,)\n",
      "assets (626,)\n",
      "pricepershare (626,)\n",
      "dola\n",
      "debt (626,)\n",
      "supply (626,)\n",
      "assets (626,)\n",
      "pricepershare (626,)\n",
      "link\n",
      "debt (529,)\n",
      "supply (529,)\n",
      "assets (529,)\n",
      "pricepershare (529,)\n",
      "tripool\n",
      "debt (1047,)\n",
      "supply (1047,)\n",
      "assets (1047,)\n",
      "pricepershare (1047,)\n"
     ]
    }
   ],
   "source": [
    "# controls number of blocks querried \n",
    "delta_blocks=5*10**3\n",
    "# override default params\n",
    "call_all = lambda vault_fn: call_allblocks(\n",
    "    vault_fn,\n",
    "    delta_blocknums=delta_blocks,\n",
    "    min_block=0,\n",
    "    current_block=None,\n",
    "    vv=False\n",
    ")\n",
    "\n",
    "\n",
    "\n",
    "# loop over yearn vaults\n",
    "for aname in yearnVaults.keys():\n",
    "    print(aname)\n",
    "    ## vault contract\n",
    "    vault = get_contract(yearnVaults[aname])\n",
    "    fnD = {\n",
    "        'debt':vault.functions.totalDebt(),\n",
    "        'supply':vault.functions.totalSupply(),\n",
    "        'assets':vault.functions.totalAssets(),\n",
    "        'pricepershare':vault.functions.pricePerShare(),\n",
    "    }\n",
    "    for fname,fun in fnD.items():\n",
    "        data = call_all(fun)\n",
    "        np.save('data/yearn_%s_%s'%(aname,fname),data)\n",
    "        print(fname,np.array(data).shape)\n",
    "        "
   ]
  },
  {
   "cell_type": "markdown",
   "id": "4331f815-c65b-476e-a3b5-3c9ab4a16f95",
   "metadata": {},
   "source": [
    "# Beefy"
   ]
  },
  {
   "cell_type": "code",
   "execution_count": 3,
   "id": "5f2dee03-2e46-4039-9b26-225c16896c69",
   "metadata": {},
   "outputs": [],
   "source": [
    "## TVL"
   ]
  },
  {
   "cell_type": "code",
   "execution_count": 4,
   "id": "6192c140-0cde-445d-8cd8-ef4aedfb6c48",
   "metadata": {},
   "outputs": [],
   "source": [
    "## APY"
   ]
  }
 ],
 "metadata": {
  "kernelspec": {
   "display_name": "Python 3 (ipykernel)",
   "language": "python",
   "name": "python3"
  },
  "language_info": {
   "codemirror_mode": {
    "name": "ipython",
    "version": 3
   },
   "file_extension": ".py",
   "mimetype": "text/x-python",
   "name": "python",
   "nbconvert_exporter": "python",
   "pygments_lexer": "ipython3",
   "version": "3.9.7"
  }
 },
 "nbformat": 4,
 "nbformat_minor": 5
}
