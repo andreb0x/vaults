{
 "cells": [
  {
   "cell_type": "code",
   "execution_count": 1,
   "id": "7c02cca1-32c0-41e5-9e20-6e46fd104a53",
   "metadata": {},
   "outputs": [
    {
     "name": "stdout",
     "output_type": "stream",
     "text": [
      "current block 30958618\n"
     ]
    }
   ],
   "source": [
    "from locallib import *"
   ]
  },
  {
   "cell_type": "markdown",
   "id": "fb362213-e822-4f4a-b761-26d156fa8f9a",
   "metadata": {},
   "source": [
    "## util"
   ]
  },
  {
   "cell_type": "code",
   "execution_count": 2,
   "id": "aff048d8-5174-4f2f-888a-615243eed970",
   "metadata": {},
   "outputs": [],
   "source": [
    "# controls number of blocks querried \n",
    "delta_blocks=5*10**4\n",
    "\n",
    "# override default params\n",
    "call_all = lambda vault_fn: call_allblocks(\n",
    "    vault_fn,\n",
    "    delta_blocknums=delta_blocks,\n",
    "    min_block=0,\n",
    "    current_block=None,\n",
    "    vv=False\n",
    ")"
   ]
  },
  {
   "cell_type": "markdown",
   "id": "ebf01f55-26cd-42b5-89cc-d1f7c3924fd8",
   "metadata": {},
   "source": [
    "# Yearn"
   ]
  },
  {
   "cell_type": "code",
   "execution_count": 3,
   "id": "b027a7f5-9569-4278-8b53-eee81aa2b298",
   "metadata": {},
   "outputs": [
    {
     "data": {
      "text/plain": [
       "dict_keys(['btc', 'eth', 'wftm', 'usdc', 'usdt', 'mim', 'dai', 'yfi', 'boo', 'frax', 'geist', 'crv', 'spell', 'dola', 'link', 'tripool'])"
      ]
     },
     "execution_count": 3,
     "metadata": {},
     "output_type": "execute_result"
    }
   ],
   "source": [
    "yearnVaults.keys()"
   ]
  },
  {
   "cell_type": "code",
   "execution_count": 4,
   "id": "accebc70-e957-454f-a42d-f064c656ee29",
   "metadata": {
    "tags": []
   },
   "outputs": [],
   "source": [
    "if False:\n",
    "    # loop over yearn vaults\n",
    "    for aname in yearnVaults.keys():\n",
    "        print(aname)\n",
    "        ## vault contract\n",
    "        vault = get_contract(yearnVaults[aname])\n",
    "        fnD = {\n",
    "            'debt':vault.functions.totalDebt(),\n",
    "            'supply':vault.functions.totalSupply(),\n",
    "            'assets':vault.functions.totalAssets(),\n",
    "            'pricepershare':vault.functions.pricePerShare(),\n",
    "        }\n",
    "        for fname,fun in fnD.items():\n",
    "            data = call_all(fun)\n",
    "            np.save('data/yearn_%s_%s'%(aname,fname),data)\n",
    "            print(fname,np.array(data).shape)\n"
   ]
  },
  {
   "cell_type": "markdown",
   "id": "4331f815-c65b-476e-a3b5-3c9ab4a16f95",
   "metadata": {},
   "source": [
    "# Beefy"
   ]
  },
  {
   "cell_type": "code",
   "execution_count": 5,
   "id": "5216fe44-eee6-44e3-b1e4-c12a145e2e80",
   "metadata": {},
   "outputs": [
    {
     "data": {
      "text/plain": [
       "dict_keys(['bifi', 'btc1', 'btc2', 'eth1', 'eth2', 'ftm1', 'ftm2', 'usdc1', 'usdc2', 'usdt1', 'usdt2', 'mim1', 'mim2', 'dai1', 'dai2', 'boo1', 'frax1', 'crv1', 'crv2', 'spell1', 'dola1'])"
      ]
     },
     "execution_count": 5,
     "metadata": {},
     "output_type": "execute_result"
    }
   ],
   "source": [
    "beefyVaults.keys()"
   ]
  },
  {
   "cell_type": "code",
   "execution_count": null,
   "id": "3436790e-dd2e-49a5-9962-fe6420689064",
   "metadata": {},
   "outputs": [
    {
     "name": "stdout",
     "output_type": "stream",
     "text": [
      "bifi\n",
      "balance (448,)\n",
      "supply (448,)\n",
      "pricepershare (448,)\n",
      "btc1\n",
      "balance (331,)\n",
      "supply (331,)\n",
      "pricepershare (331,)\n",
      "btc2\n",
      "balance (196,)\n",
      "supply (196,)\n",
      "pricepershare (196,)\n",
      "eth1\n",
      "balance (331,)\n",
      "supply (331,)\n",
      "pricepershare (331,)\n",
      "eth2\n",
      "balance (196,)\n",
      "supply (196,)\n",
      "pricepershare (196,)\n",
      "ftm1\n",
      "balance (331,)\n",
      "supply (331,)\n"
     ]
    }
   ],
   "source": [
    "for aname in beefyVaults.keys():\n",
    "    print(aname)\n",
    "    ## vault contract\n",
    "    vault = get_contract(beefyVaults[aname])\n",
    "    fnD = {\n",
    "        'balance':vault.functions.balance(),\n",
    "        'supply':vault.functions.totalSupply(),\n",
    "        'pricepershare':vault.functions.getPricePerFullShare(),\n",
    "    }\n",
    "    for fname,fun in fnD.items():\n",
    "        data = call_all(fun)\n",
    "        np.save('data/beefy_%s_%s'%(aname,fname),data)\n",
    "        print(fname,np.array(data).shape)\n",
    "        "
   ]
  }
 ],
 "metadata": {
  "kernelspec": {
   "display_name": "Python 3 (ipykernel)",
   "language": "python",
   "name": "python3"
  },
  "language_info": {
   "codemirror_mode": {
    "name": "ipython",
    "version": 3
   },
   "file_extension": ".py",
   "mimetype": "text/x-python",
   "name": "python",
   "nbconvert_exporter": "python",
   "pygments_lexer": "ipython3",
   "version": "3.9.7"
  }
 },
 "nbformat": 4,
 "nbformat_minor": 5
}
